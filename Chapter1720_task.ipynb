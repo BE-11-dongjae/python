{
  "cells": [
    {
      "cell_type": "markdown",
      "metadata": {
        "id": "view-in-github",
        "colab_type": "text"
      },
      "source": [
        "<a href=\"https://colab.research.google.com/github/BE-11-dongjae/python/blob/main/Chapter1720_task.ipynb\" target=\"_parent\"><img src=\"https://colab.research.google.com/assets/colab-badge.svg\" alt=\"Open In Colab\"/></a>"
      ]
    },
    {
      "cell_type": "markdown",
      "metadata": {
        "id": "aLkxKxnFLowa"
      },
      "source": [
        "안녕하세요. 수강생 여러분~! Chapter17 ~ 20 수업은 잘 들으셨나요?\n",
        "\n",
        "Chapter17 ~ 20의 수업 내용을 바탕으로 아래 문제를 풀어주시면 됩니다.\n",
        "\n",
        "\n",
        "<br>\n",
        "\n",
        "\n",
        "[**답변 입력 방법**]\n",
        "\n",
        "문제 아래에 있는 코드 입력창에 정답코드를 작성하신 후  __▷ 버튼을 클릭해 코드를 실행__ 해보세요<br>"
      ]
    },
    {
      "cell_type": "markdown",
      "metadata": {
        "id": "pYJ1dSggLwcG"
      },
      "source": [
        "__[문제1]__\n",
        "\n",
        "print_even 리스트 내에 있는 값 중 짝수만 화면에 출력되도록 print_score 함수를 생성 후 결과값을 출력해주세요\n",
        "\n",
        "print_even ([1, 3, 2, 10, 12, 11, 15])"
      ]
    },
    {
      "cell_type": "code",
      "execution_count": 9,
      "metadata": {
        "id": "PTqEeebbLmCA",
        "colab": {
          "base_uri": "https://localhost:8080/"
        },
        "outputId": "34d8c7d7-5cc9-425e-9cd2-6409e34c2972"
      },
      "outputs": [
        {
          "output_type": "stream",
          "name": "stdout",
          "text": [
            "2\n",
            "10\n",
            "12\n"
          ]
        }
      ],
      "source": [
        "print_even = [1, 3, 2, 10, 12, 11, 15]\n",
        "\n",
        "def print_score(numbers):\n",
        "    for num in numbers:\n",
        "        if num % 2 == 0:\n",
        "            print(num)\n",
        "\n",
        "print_score(print_even)"
      ]
    },
    {
      "cell_type": "markdown",
      "metadata": {
        "id": "LRwokmEwUo9U"
      },
      "source": [
        "---"
      ]
    },
    {
      "cell_type": "markdown",
      "metadata": {
        "id": "ZkGserEsQS0L"
      },
      "source": [
        "__[문제2]__\n",
        "\n",
        "비어있는 오즈 (oz) 클래스를 \"정의\" 해보세요."
      ]
    },
    {
      "cell_type": "code",
      "execution_count": null,
      "metadata": {
        "id": "dJbcWWlwL0iK"
      },
      "outputs": [],
      "source": [
        "class oz:\n",
        "    pass"
      ]
    },
    {
      "cell_type": "markdown",
      "metadata": {
        "id": "shDQoNOeUo9V"
      },
      "source": [
        "---"
      ]
    },
    {
      "cell_type": "markdown",
      "metadata": {
        "id": "Ofy86rZfL1Mg"
      },
      "source": [
        "__[문제3]__\n",
        "\n",
        "오즈(oz) 클래스의 인스턴스를 \"생성\" 하고 이를 coding 변수로 할당해보세요."
      ]
    },
    {
      "cell_type": "code",
      "execution_count": 10,
      "metadata": {
        "id": "5NhWiuULL2Xa"
      },
      "outputs": [],
      "source": [
        "class oz:\n",
        "    pass\n",
        "\n",
        "coding = oz()"
      ]
    },
    {
      "cell_type": "markdown",
      "metadata": {
        "id": "pgpgk0bTUo9W"
      },
      "source": [
        "---"
      ]
    },
    {
      "cell_type": "markdown",
      "metadata": {
        "id": "5T6EMx8EL26b"
      },
      "source": [
        "[문제4]\n",
        "\n",
        "오즈(oz) 클래스에 \"클래스 정복\"을 출력하는 기본 생성자를 추가해주세요"
      ]
    },
    {
      "cell_type": "code",
      "execution_count": 11,
      "metadata": {
        "id": "Zq35PXA0L3-m",
        "colab": {
          "base_uri": "https://localhost:8080/"
        },
        "outputId": "84b19d5e-0e7f-4f51-dd2a-6e9713d200ef"
      },
      "outputs": [
        {
          "output_type": "stream",
          "name": "stdout",
          "text": [
            "클래스 정복\n"
          ]
        }
      ],
      "source": [
        "class oz:\n",
        "    def __init__(self):\n",
        "        print(\"클래스 정복\")\n",
        "\n",
        "cording = oz()"
      ]
    },
    {
      "cell_type": "markdown",
      "metadata": {
        "id": "SefQcUgHUo9W"
      },
      "source": [
        "---"
      ]
    },
    {
      "cell_type": "markdown",
      "metadata": {
        "id": "htuycQWSL4l-"
      },
      "source": [
        "__[문제5]__\n",
        "\n",
        "오즈 (oz) 클래스에 (이름, 나이, 코딩레벨)을 받는 생성자를 추가해주세요\n",
        "\n",
        "coding = oz(\"김코\", 30, \"A\")\n"
      ]
    },
    {
      "cell_type": "code",
      "execution_count": 18,
      "metadata": {
        "id": "A7h3I8CWL5ox",
        "colab": {
          "base_uri": "https://localhost:8080/"
        },
        "outputId": "2306974c-29af-478b-907a-410658039144"
      },
      "outputs": [
        {
          "output_type": "stream",
          "name": "stdout",
          "text": [
            "김코는 30세이며 코딩 레벨은 A입니다.\n"
          ]
        }
      ],
      "source": [
        "class oz:\n",
        "    def __init__(self, name, age, coding_level):\n",
        "        self.name = name\n",
        "        self.age = age\n",
        "        self.coding_level = coding_level\n",
        "        print(f\"{name}는 {age}세이며 코딩 레벨은 {coding_level}입니다.\")\n",
        "\n",
        "coding = oz(\"김코\", 30, \"A\")\n"
      ]
    },
    {
      "cell_type": "markdown",
      "metadata": {
        "id": "Euw7p0WWUo9X"
      },
      "source": [
        "---"
      ]
    },
    {
      "cell_type": "markdown",
      "metadata": {
        "id": "ZGDLHI5xL6Bd"
      },
      "source": [
        "__[문제6]__\n",
        "\n",
        "5번 문제에서 생성한 인스턴스의 이름, 나이, 성별을 출력해주세요.\n",
        "\n",
        "\n",
        "\n",
        "출력 결과  ) <br>\n",
        "이름 : 김코  \n",
        "나이 : 30  \n",
        "코딩레벨 : A  \n",
        "\n",
        "__Tips__\n",
        "\n",
        "\n",
        "- 인스턴스 변수에 접근하여 값을 출력하면 됩니다  : )"
      ]
    },
    {
      "cell_type": "code",
      "execution_count": 20,
      "metadata": {
        "id": "qCrPejI_L8Wr",
        "colab": {
          "base_uri": "https://localhost:8080/"
        },
        "outputId": "bde8b653-7688-4746-a5fd-04cf3dda2b61"
      },
      "outputs": [
        {
          "output_type": "stream",
          "name": "stdout",
          "text": [
            "이름 : 김코\n",
            "나이 : 30\n",
            "코딩레벨 : A\n"
          ]
        }
      ],
      "source": [
        "class oz:\n",
        "    def __init__(self, name, age, coding_level):\n",
        "        self.name = name\n",
        "        self.age = age\n",
        "        self.coding_level = coding_level\n",
        "        print(f\"이름 : {name}\")\n",
        "        print(f\"나이 : {age}\")\n",
        "        print(f\"코딩레벨 : {coding_level}\")\n",
        "\n",
        "coding = oz(\"김코\", 30, \"A\")\n"
      ]
    },
    {
      "cell_type": "markdown",
      "metadata": {
        "id": "acFwyTBjUo9X"
      },
      "source": [
        "---"
      ]
    },
    {
      "cell_type": "markdown",
      "metadata": {
        "id": "RmtPk-A1L8z4"
      },
      "source": [
        "__[문제7]__\n",
        "\n",
        "오즈 (oz) 클래스에서 이름, 나이, 성별을 출력하는 who() 메소드를 추가하고 who()메소드를 이용해 아래 출력 결과를 만들어주세요\n",
        "\n",
        "\n",
        "출력 결과 ) <br>\n",
        "이름: 김코, 나이: 30, 코딩레벨: A"
      ]
    },
    {
      "cell_type": "code",
      "execution_count": 21,
      "metadata": {
        "id": "fvrvm87vL_HZ",
        "colab": {
          "base_uri": "https://localhost:8080/"
        },
        "outputId": "2abe8d98-d146-4318-e04a-6c96d028eca9"
      },
      "outputs": [
        {
          "output_type": "stream",
          "name": "stdout",
          "text": [
            "이름: 김코, 나이: 30, 성별: 남, 코딩레벨: A\n"
          ]
        }
      ],
      "source": [
        "class oz:\n",
        "    def __init__(self, name, age, gender, coding_level):\n",
        "        self.name = name\n",
        "        self.age = age\n",
        "        self.gender = gender\n",
        "        self.coding_level = coding_level\n",
        "\n",
        "    def who(self):\n",
        "        return f'이름: {self.name}, 나이: {self.age}, 성별: {self.gender}, 코딩레벨: {self.coding_level}'\n",
        "\n",
        "coding = oz(\"김코\", 30, \"남\", \"A\")\n",
        "print(coding.who())"
      ]
    },
    {
      "cell_type": "code",
      "source": [],
      "metadata": {
        "id": "Y12YuB8vnyvz"
      },
      "execution_count": null,
      "outputs": []
    }
  ],
  "metadata": {
    "colab": {
      "provenance": [],
      "include_colab_link": true
    },
    "kernelspec": {
      "display_name": "Python 3",
      "name": "python3"
    },
    "language_info": {
      "codemirror_mode": {
        "name": "ipython",
        "version": 3
      },
      "file_extension": ".py",
      "mimetype": "text/x-python",
      "name": "python",
      "nbconvert_exporter": "python",
      "pygments_lexer": "ipython3",
      "version": "3.11.7"
    }
  },
  "nbformat": 4,
  "nbformat_minor": 0
}